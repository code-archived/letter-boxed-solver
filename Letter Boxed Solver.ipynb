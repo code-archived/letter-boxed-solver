{
 "cells": [
  {
   "cell_type": "markdown",
   "id": "25050745",
   "metadata": {},
   "source": [
    "<div align = \"center\">\n",
    "\n",
    "# New York Times (NYT) Letter Boxed Solver\n",
    "\n",
    "---\n",
    "\n",
    "</div>\n",
    "\n",
    "A full-stack solution to [Letter Boxed](https://www.nytimes.com/puzzles/letter-boxed) using Python3 and web-scrapper to fetch the latest puzzle and generate solutions. The web version is deployed using [`rended.com`](https://ny-letter-boxed-solver.onrender.com/). The example file shows standalone python code."
   ]
  },
  {
   "cell_type": "code",
   "execution_count": 2,
   "id": "635045c1",
   "metadata": {},
   "outputs": [],
   "source": [
    "from tqdm.auto import tqdm as TQ"
   ]
  },
  {
   "cell_type": "code",
   "execution_count": 1,
   "id": "0e6be060",
   "metadata": {},
   "outputs": [],
   "source": [
    "import src as lbsolver # example naming of source directory, not in pypi"
   ]
  },
  {
   "cell_type": "code",
   "execution_count": 8,
   "id": "75ddb72e",
   "metadata": {},
   "outputs": [],
   "source": [
    "scraper = lbsolver.ScrapeLetterBox() # uses bs4, requests"
   ]
  },
  {
   "cell_type": "code",
   "execution_count": 9,
   "id": "deaa0026",
   "metadata": {},
   "outputs": [
    {
     "name": "stdout",
     "output_type": "stream",
     "text": [
      "Get Today's Letters: L=['N', 'C', 'B'] R=['W', 'T', 'I'] T=['E', 'K', 'R'] B=['O', 'L', 'A']\n",
      "NYT Recommended Solution: ['BROWBEATEN', 'NIBLICK']\n"
     ]
    }
   ],
   "source": [
    "print(f\"Get Today's Letters: {scraper.sides}\")\n",
    "print(f\"NYT Recommended Solution: {scraper.nysolution()}\")"
   ]
  },
  {
   "cell_type": "code",
   "execution_count": 27,
   "id": "8bc95468",
   "metadata": {},
   "outputs": [],
   "source": [
    "# corpus = scraper.corpus # you can use the corpus from the available words from nyt (get from scrapper)\n",
    "corpus = lbsolver.WordCorpus().words # or, use default filepath, take words from assets/words.txt"
   ]
  },
  {
   "cell_type": "code",
   "execution_count": 28,
   "id": "e80e9cf1",
   "metadata": {},
   "outputs": [
    {
     "name": "stdout",
     "output_type": "stream",
     "text": [
      "Total No. of Words in NLTK Corpus   : 63,547\n",
      "Total No. of Valid Words for Solver : 998 (~ 1.57%)\n"
     ]
    }
   ],
   "source": [
    "model = lbsolver.LetterBoxedModel(boxes = scraper.sides, words = corpus)\n",
    "\n",
    "# print verbose for the models, this is for development purpose\n",
    "print(f\"Total No. of Words in NLTK Corpus   : {len(corpus):,}\")\n",
    "print(f\"Total No. of Valid Words for Solver : {len(model.words):,} (~ {round(len(model.words) / len(corpus) * 100, 3)}%)\")"
   ]
  },
  {
   "cell_type": "code",
   "execution_count": 29,
   "id": "4c02b5f2",
   "metadata": {},
   "outputs": [
    {
     "data": {
      "application/vnd.jupyter.widget-view+json": {
       "model_id": "389336b9c0954bc7a37315a199ef7789",
       "version_major": 2,
       "version_minor": 0
      },
      "text/plain": [
       "  0%|          | 0/998 [00:00<?, ?it/s]"
      ]
     },
     "metadata": {},
     "output_type": "display_data"
    },
    {
     "data": {
      "text/plain": [
       "[]"
      ]
     },
     "execution_count": 29,
     "metadata": {},
     "output_type": "execute_result"
    }
   ],
   "source": [
    "# get one word solution\n",
    "model.solve(1) # if blank, no solutions"
   ]
  },
  {
   "cell_type": "code",
   "execution_count": 32,
   "id": "40cdfc04",
   "metadata": {},
   "outputs": [
    {
     "data": {
      "application/vnd.jupyter.widget-view+json": {
       "model_id": "5c3b3713671a4a1194b1dc5e993c4295",
       "version_major": 2,
       "version_minor": 0
      },
      "text/plain": [
       "  0%|          | 0/998 [00:00<?, ?it/s]"
      ]
     },
     "metadata": {},
     "output_type": "display_data"
    },
    {
     "data": {
      "text/plain": [
       "[['BACKWORT', 'TAILBONE'],\n",
       " ['BACKWORT', 'TENAIL'],\n",
       " ['BACKWORT', 'TOENAIL'],\n",
       " ['BACKWORT', 'TOWLINE'],\n",
       " ['BACKWORT', 'TRAINEL'],\n",
       " ['BACKWORT', 'TRINKLE'],\n",
       " ['BANEWORT', 'TRICKLE'],\n",
       " ['BECKIRON', 'NAILWORT'],\n",
       " ['BECKON', 'NAILWORT'],\n",
       " ['BROWNTAIL', 'LECK'],\n",
       " ['TOWLINE', 'EBRAICK'],\n",
       " ['TRICK', 'KNOWABLE']]"
      ]
     },
     "execution_count": 32,
     "metadata": {},
     "output_type": "execute_result"
    }
   ],
   "source": [
    "# get two word solutions from the corpus\n",
    "model.solve(2)"
   ]
  }
 ],
 "metadata": {
  "kernelspec": {
   "display_name": "Python 3 (ipykernel)",
   "language": "python",
   "name": "python3"
  },
  "language_info": {
   "codemirror_mode": {
    "name": "ipython",
    "version": 3
   },
   "file_extension": ".py",
   "mimetype": "text/x-python",
   "name": "python",
   "nbconvert_exporter": "python",
   "pygments_lexer": "ipython3",
   "version": "3.12.4"
  }
 },
 "nbformat": 4,
 "nbformat_minor": 5
}
